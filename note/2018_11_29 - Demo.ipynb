{
 "cells": [
  {
   "cell_type": "markdown",
   "metadata": {},
   "source": [
    "# New PxS\n",
    "\n",
    "New Python x Smile runner, that uses a completely external standalone cpp script for maximum robustness. If it is stupid and it works, it is not stupid."
   ]
  },
  {
   "cell_type": "markdown",
   "metadata": {},
   "source": [
    "## Imports"
   ]
  },
  {
   "cell_type": "code",
   "execution_count": 1,
   "metadata": {
    "collapsed": true
   },
   "outputs": [],
   "source": [
    "import os\n",
    "import numpy as np\n",
    "import pandas as pd\n",
    "import sys\n",
    "import json\n",
    "\n",
    "\n",
    "from os.path import dirname"
   ]
  },
  {
   "cell_type": "code",
   "execution_count": 2,
   "metadata": {},
   "outputs": [
    {
     "data": {
      "text/plain": [
       "'/cw/dtailocal/repos/PxS'"
      ]
     },
     "execution_count": 2,
     "metadata": {},
     "output_type": "execute_result"
    }
   ],
   "source": [
    "# Custom imports\n",
    "root_dir = dirname(os.getcwd())\n",
    "root_dir"
   ]
  },
  {
   "cell_type": "code",
   "execution_count": 3,
   "metadata": {},
   "outputs": [
    {
     "ename": "NameError",
     "evalue": "name 'src_dir' is not defined",
     "output_type": "error",
     "traceback": [
      "\u001b[0;31m---------------------------------------------------------------------------\u001b[0m",
      "\u001b[0;31mNameError\u001b[0m                                 Traceback (most recent call last)",
      "\u001b[0;32m<ipython-input-3-af1987109860>\u001b[0m in \u001b[0;36m<module>\u001b[0;34m()\u001b[0m\n\u001b[0;32m----> 1\u001b[0;31m \u001b[0msys\u001b[0m\u001b[0;34m.\u001b[0m\u001b[0mpath\u001b[0m\u001b[0;34m.\u001b[0m\u001b[0mappend\u001b[0m\u001b[0;34m(\u001b[0m\u001b[0msrc_dir\u001b[0m\u001b[0;34m)\u001b[0m\u001b[0;34m\u001b[0m\u001b[0m\n\u001b[0m\u001b[1;32m      2\u001b[0m \u001b[0;34m\u001b[0m\u001b[0m\n\u001b[1;32m      3\u001b[0m \u001b[0;32mimport\u001b[0m \u001b[0mexp\u001b[0m\u001b[0;34m\u001b[0m\u001b[0m\n\u001b[1;32m      4\u001b[0m \u001b[0;32mfrom\u001b[0m \u001b[0mexp\u001b[0m\u001b[0;34m.\u001b[0m\u001b[0mutils\u001b[0m\u001b[0;34m.\u001b[0m\u001b[0mrun\u001b[0m \u001b[0;32mimport\u001b[0m \u001b[0mrun_script\u001b[0m\u001b[0;34m,\u001b[0m \u001b[0mgenerate_command\u001b[0m\u001b[0;34m,\u001b[0m \u001b[0mrun_process\u001b[0m\u001b[0;34m,\u001b[0m\u001b[0mgenerate_monitor\u001b[0m\u001b[0;34m\u001b[0m\u001b[0m\n",
      "\u001b[0;31mNameError\u001b[0m: name 'src_dir' is not defined"
     ]
    }
   ],
   "source": [
    "sys.path.append(src_dir)\n",
    "\n",
    "import exp\n",
    "from exp.utils.run import run_script, generate_command, run_process,generate_monitor"
   ]
  },
  {
   "cell_type": "markdown",
   "metadata": {},
   "source": [
    "## Definition"
   ]
  },
  {
   "cell_type": "code",
   "execution_count": 3,
   "metadata": {
    "code_folding": [
     12,
     35,
     59,
     61,
     63
    ],
    "collapsed": true
   },
   "outputs": [],
   "source": [
    "class PxS(object):\n",
    "    \n",
    "    default_log_fn = \"PxS_log\"\n",
    "    default_to = 360\n",
    "    default_cwd = os.getcwd()\n",
    "    default_cfg_fn = \"config.json\"\n",
    "    default_res_fn = \"out.csv\"\n",
    "    default_model_fname = \"model.xdsl\"\n",
    "    \n",
    "    fit_fn = \"./resc/fit\"\n",
    "    predict_fn = \"./resc/predict\"\n",
    "    \n",
    "\n",
    "    def __init__(self):\n",
    "        return\n",
    "    \n",
    "    def gen_fit_cfg(self, train_fname, model_fname=None):\n",
    "        \n",
    "        if model_fname is None:\n",
    "            model_fname = self.default_model_fname\n",
    "        \n",
    "        cfg = {\"train_fname\": train_fname,\n",
    "               \"model_fname\": model_fname}\n",
    "        \n",
    "        return cfg\n",
    "    \n",
    "    def gen_predict_cfg(self, train_fname, targ_idx, miss_idx, out_fname=None, model_fname=None):\n",
    "        \n",
    "        if out_fname is None:\n",
    "            out_fname=self.default_res_fn\n",
    "        if model_fname is None:\n",
    "            model_fname = self.default_model_fname\n",
    "        \n",
    "        cfg = {\"test_fname\":  train_fname,\n",
    "               \"out_fname\":   out_fname,\n",
    "               \"model_fname\": model_fname,\n",
    "               \"miss_idx\":    miss_idx,\n",
    "               \"targ_idx\":    targ_idx}\n",
    "        \n",
    "        return cfg\n",
    "      \n",
    "    def save_config(self, cfg, cfg_fname=None):\n",
    "        if cfg_fname is None:\n",
    "            cfg_fname = self.default_cfg_fn\n",
    "        \n",
    "        with open(cfg_fname, 'w') as f:\n",
    "            json.dump(cfg, f, indent=4)\n",
    "        return\n",
    "    \n",
    "    def drop_log(self, log_fname, cwd):\n",
    "        \n",
    "        success_log_fnames = [os.path.join(cwd, f) for f in os.listdir(cwd)\n",
    "                             if log_fname in f\n",
    "                             if \"success\" in f]\n",
    "        \n",
    "        for f in success_log_fnames:\n",
    "            os.remove(f)      \n",
    "        \n",
    "        return\n",
    "     \n",
    "    def fit(self, train_fname, model_fname=None, cfg_fname=None, log_fname=None, timeout=None, cwd=None):\n",
    "        \n",
    "        # Parse arguments\n",
    "        if log_fname is None:\n",
    "            log_fname = self.default_log_fn+\"_fit\"\n",
    "        if timeout is None:\n",
    "            timeout = self.default_to\n",
    "        if cwd is None:\n",
    "            cwd = self.default_cwd\n",
    "        if cfg_fname is None:\n",
    "            cfg_fname = self.default_cfg_fn\n",
    "            \n",
    "        # Config\n",
    "        cfg = self.gen_fit_cfg(train_fname, model_fname=model_fname)\n",
    "        self.save_config(cfg, cfg_fname=cfg_fname)\n",
    "        \n",
    "        # Run - Prelims\n",
    "        mon = generate_monitor(log_fname, timeout)\n",
    "        cmd = generate_command(self.fit_fn, \n",
    "                               cfg_fname, \n",
    "                               script_prefix=\"\",\n",
    "                               config_prefix=\"-c\")\n",
    "        \n",
    "        # Run \n",
    "        p = run_process(cmd, monitors=mon, cwd=cwd)\n",
    "        \n",
    "        if p == 0:\n",
    "            os.remove(cfg_fname)\n",
    "            self.drop_log(log_fname, cwd)\n",
    "            \n",
    "        return p\n",
    "    \n",
    "    def predict(self,\n",
    "                test_fname,\n",
    "                targ_idx,\n",
    "                miss_idx,\n",
    "                out_fname=None,\n",
    "                model_fname=None,\n",
    "                cfg_fname=None,\n",
    "                log_fname=None,\n",
    "                timeout=None,\n",
    "                cwd=None):\n",
    "        \n",
    "        # Parse arguments\n",
    "        if log_fname is None:\n",
    "            log_fname = self.default_log_fn+\"_predict\"\n",
    "        if timeout is None:\n",
    "            timeout = self.default_to\n",
    "        if cwd is None:\n",
    "            cwd = self.default_cwd\n",
    "        if cfg_fname is None:\n",
    "            cfg_fname = self.default_cfg_fn\n",
    "            \n",
    "        \n",
    "        # Config\n",
    "        cfg = self.gen_predict_cfg(test_fname, targ_idx, miss_idx, out_fname=out_fname, model_fname=model_fname)\n",
    "        self.save_config(cfg, cfg_fname=cfg_fname)\n",
    "            \n",
    "        # Run-Prelims\n",
    "        mon = generate_monitor(log_fname, timeout)\n",
    "        cmd = generate_command(self.predict_fn, \n",
    "                               cfg_fname, \n",
    "                               script_prefix=\"\",\n",
    "                               config_prefix=\"-c\")\n",
    "        \n",
    "        # Run \n",
    "        p = run_process(cmd, monitors=mon, cwd=cwd)\n",
    "        \n",
    "        if p == 0:\n",
    "            os.remove(cfg_fname)\n",
    "            self.drop_log(log_fname, cwd)\n",
    "            \n",
    "            result = pd.read_csv(cfg[\"out_fname\"], header=None)\n",
    "            #os.remove(cfg[\"out_fname\"])\n",
    "        \n",
    "            return result.values\n",
    "        else:\n",
    "            return p\n",
    "    "
   ]
  },
  {
   "cell_type": "markdown",
   "metadata": {},
   "source": [
    "## Factory Floor\n",
    "\n",
    "Here I try the crap I write"
   ]
  },
  {
   "cell_type": "code",
   "execution_count": 4,
   "metadata": {
    "collapsed": true
   },
   "outputs": [],
   "source": [
    "pxs = PxS()"
   ]
  },
  {
   "cell_type": "code",
   "execution_count": 22,
   "metadata": {},
   "outputs": [
    {
     "data": {
      "text/plain": [
       "0"
      ]
     },
     "execution_count": 22,
     "metadata": {},
     "output_type": "execute_result"
    }
   ],
   "source": [
    "pxs.fit(train_fname='resc/train.csv')"
   ]
  },
  {
   "cell_type": "code",
   "execution_count": 64,
   "metadata": {},
   "outputs": [
    {
     "name": "stdout",
     "output_type": "stream",
     "text": [
      "CPU times: user 4 µs, sys: 2 µs, total: 6 µs\n",
      "Wall time: 9.78 µs\n"
     ]
    },
    {
     "data": {
      "text/plain": [
       "array([[0, 0, 0],\n",
       "       [0, 0, 0],\n",
       "       [0, 0, 0],\n",
       "       ...,\n",
       "       [0, 0, 0],\n",
       "       [0, 0, 0],\n",
       "       [0, 1, 0]])"
      ]
     },
     "execution_count": 64,
     "metadata": {},
     "output_type": "execute_result"
    }
   ],
   "source": [
    "%time\n",
    "res = pxs.predict(test_fname=\"resc/test.csv\", targ_idx=[10,11,12], miss_idx=[4])\n",
    "res"
   ]
  },
  {
   "cell_type": "code",
   "execution_count": 42,
   "metadata": {},
   "outputs": [
    {
     "data": {
      "text/plain": [
       "array([-1])"
      ]
     },
     "execution_count": 42,
     "metadata": {},
     "output_type": "execute_result"
    }
   ],
   "source": []
  },
  {
   "cell_type": "code",
   "execution_count": 7,
   "metadata": {
    "collapsed": true
   },
   "outputs": [],
   "source": [
    "log_fn = os.path.join(os.getcwd(), \"prod/log.txt\")\n",
    "log_fn = \"prod/log.txt\""
   ]
  },
  {
   "cell_type": "code",
   "execution_count": 8,
   "metadata": {
    "collapsed": true
   },
   "outputs": [],
   "source": [
    "mon = generate_monitor(log_fn, 360)"
   ]
  },
  {
   "cell_type": "code",
   "execution_count": 9,
   "metadata": {},
   "outputs": [
    {
     "ename": "AttributeError",
     "evalue": "'PxS' object has no attribute 'fit_cpp'",
     "output_type": "error",
     "traceback": [
      "\u001b[0;31m---------------------------------------------------------------------------\u001b[0m",
      "\u001b[0;31mAttributeError\u001b[0m                            Traceback (most recent call last)",
      "\u001b[0;32m<ipython-input-9-69a915f67e67>\u001b[0m in \u001b[0;36m<module>\u001b[0;34m()\u001b[0m\n\u001b[0;32m----> 1\u001b[0;31m \u001b[0mcmd\u001b[0m \u001b[0;34m=\u001b[0m \u001b[0mgenerate_command\u001b[0m\u001b[0;34m(\u001b[0m\u001b[0mpxs\u001b[0m\u001b[0;34m.\u001b[0m\u001b[0mfit_cpp\u001b[0m\u001b[0;34m,\u001b[0m \u001b[0;34m\"resc/config.json\"\u001b[0m\u001b[0;34m,\u001b[0m \u001b[0mscript_prefix\u001b[0m\u001b[0;34m=\u001b[0m\u001b[0;34m\"\"\u001b[0m\u001b[0;34m,\u001b[0m \u001b[0mconfig_prefix\u001b[0m\u001b[0;34m=\u001b[0m\u001b[0;34m\"-c\"\u001b[0m\u001b[0;34m)\u001b[0m\u001b[0;34m\u001b[0m\u001b[0m\n\u001b[0m\u001b[1;32m      2\u001b[0m \u001b[0mcmd\u001b[0m\u001b[0;34m\u001b[0m\u001b[0m\n",
      "\u001b[0;31mAttributeError\u001b[0m: 'PxS' object has no attribute 'fit_cpp'"
     ]
    }
   ],
   "source": [
    "cmd = generate_command(pxs.fit_cpp, \"resc/config.json\", script_prefix=\"\", config_prefix=\"-c\")\n",
    "cmd"
   ]
  },
  {
   "cell_type": "code",
   "execution_count": null,
   "metadata": {
    "collapsed": true
   },
   "outputs": [],
   "source": [
    "run_process(cmd, monitors=mon, cwd=os.getcwd())"
   ]
  }
 ],
 "metadata": {
  "kernelspec": {
   "display_name": "Python [default]",
   "language": "python",
   "name": "python3"
  },
  "language_info": {
   "codemirror_mode": {
    "name": "ipython",
    "version": 3
   },
   "file_extension": ".py",
   "mimetype": "text/x-python",
   "name": "python",
   "nbconvert_exporter": "python",
   "pygments_lexer": "ipython3",
   "version": "3.6.1"
  },
  "toc": {
   "nav_menu": {},
   "number_sections": true,
   "sideBar": true,
   "skip_h1_title": true,
   "toc_cell": false,
   "toc_position": {},
   "toc_section_display": "block",
   "toc_window_display": false
  }
 },
 "nbformat": 4,
 "nbformat_minor": 2
}
